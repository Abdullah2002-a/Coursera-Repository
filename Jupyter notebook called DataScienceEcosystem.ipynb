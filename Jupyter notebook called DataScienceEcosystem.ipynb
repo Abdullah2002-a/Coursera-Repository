{
 "cells": [
  {
   "cell_type": "markdown",
   "id": "4c279e9f-31f1-4718-9480-384365795039",
   "metadata": {},
   "source": [
    "# Data Science Tools and Ecosystem"
   ]
  },
  {
   "cell_type": "markdown",
   "id": "8782c014-8bde-48ef-930b-42d16aa3b2df",
   "metadata": {},
   "source": [
    "In this notebook, Data Science Tools and Ecosystem are summarized."
   ]
  },
  {
   "cell_type": "markdown",
   "id": "97abb7bf-2cf9-48c9-a701-4957178f32ee",
   "metadata": {},
   "source": [
    "Some of the popular languages that Data Scientists use are:"
   ]
  },
  {
   "cell_type": "markdown",
   "id": "381843a6-3a93-4ca0-81b5-38bdf32a37cf",
   "metadata": {},
   "source": [
    "1. Python  \n",
    "2. R  \n",
    "3. SQL  \n",
    "4. Julia *(optional)*  "
   ]
  },
  {
   "cell_type": "markdown",
   "id": "d7728de0-088f-4735-ab3a-95cedc5a993b",
   "metadata": {},
   "source": [
    "Some of the commonly used libraries used by Data Scientists include:"
   ]
  },
  {
   "cell_type": "markdown",
   "id": "fa60db72-e2f4-4103-a4c4-074ee3fbf0ee",
   "metadata": {},
   "source": [
    "1. Pandas  \n",
    "2. NumPy  \n",
    "3. Matplotlib  \n",
    "4. Scikit-learn *(optional)*  \n",
    "5. TensorFlow *(optional)*"
   ]
  },
  {
   "cell_type": "markdown",
   "id": "03ead204-5e8a-4483-a3d8-0a4597140f48",
   "metadata": {},
   "source": [
    "|Data Science Tools|\n",
    "|------------------|\n",
    "|Jupyter Notebook  |\n",
    "| RStudio          |\n",
    "|   Apache Zeppelin|"
   ]
  },
  {
   "cell_type": "markdown",
   "id": "3fa988c6-d4b4-4483-83de-6908df021ac3",
   "metadata": {},
   "source": [
    "### Below are a few examples of evaluating arithmetic expressions in Python"
   ]
  },
  {
   "cell_type": "code",
   "execution_count": 3,
   "id": "8754012c-0577-4d67-9ee4-b3741466cdb9",
   "metadata": {},
   "outputs": [
    {
     "data": {
      "text/plain": [
       "17"
      ]
     },
     "execution_count": 3,
     "metadata": {},
     "output_type": "execute_result"
    }
   ],
   "source": [
    "# This is a simple arithmetic expression to multiply then add integers\n",
    "(3 * 4) + 5\n"
   ]
  },
  {
   "cell_type": "code",
   "execution_count": 4,
   "id": "e426e517-7a1a-404a-808b-8b3b28f2d6f5",
   "metadata": {},
   "outputs": [
    {
     "data": {
      "text/plain": [
       "3.3333333333333335"
      ]
     },
     "execution_count": 4,
     "metadata": {},
     "output_type": "execute_result"
    }
   ],
   "source": [
    "# This will convert 200 minutes to hours by dividing by 60\n",
    "200 / 60\n"
   ]
  },
  {
   "cell_type": "markdown",
   "id": "2ab14b9a-fd39-4a87-8a34-f0ddc13a159b",
   "metadata": {},
   "source": [
    "**Objectives:**\n",
    "\n",
    "- List popular languages for Data Science  \n",
    "- Identify commonly used libraries in Data Science  \n",
    "- Describe open-source tools used by Data Scientists  \n",
    "- Perform basic arithmetic operations using Python  \n",
    "- Convert units using code expressions\n"
   ]
  },
  {
   "cell_type": "markdown",
   "id": "fe0335e5-79d6-46dd-a85c-11f62211ed92",
   "metadata": {},
   "source": [
    "## Author\n",
    "\n",
    "Abdullah Faris\n"
   ]
  },
  {
   "cell_type": "code",
   "execution_count": null,
   "id": "a76b06c4-1e67-4abd-845c-644078726179",
   "metadata": {},
   "outputs": [],
   "source": []
  }
 ],
 "metadata": {
  "kernelspec": {
   "display_name": "Python [conda env:base] *",
   "language": "python",
   "name": "conda-base-py"
  },
  "language_info": {
   "codemirror_mode": {
    "name": "ipython",
    "version": 3
   },
   "file_extension": ".py",
   "mimetype": "text/x-python",
   "name": "python",
   "nbconvert_exporter": "python",
   "pygments_lexer": "ipython3",
   "version": "3.12.7"
  }
 },
 "nbformat": 4,
 "nbformat_minor": 5
}
